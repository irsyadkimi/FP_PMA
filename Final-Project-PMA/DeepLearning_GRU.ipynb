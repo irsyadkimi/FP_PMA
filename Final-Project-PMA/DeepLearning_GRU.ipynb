{
 "cells": [
  {
   "cell_type": "code",
   "execution_count": 1,
   "id": "initial_id",
   "metadata": {
    "ExecuteTime": {
     "end_time": "2023-12-11T08:07:14.600495500Z",
     "start_time": "2023-12-11T08:07:05.987298Z"
    },
    "collapsed": true
   },
   "outputs": [
    {
     "name": "stdout",
     "output_type": "stream",
     "text": [
      "WARNING:tensorflow:From c:\\Users\\atrke\\AppData\\Local\\Programs\\Python\\Python39\\lib\\site-packages\\keras\\src\\losses.py:2976: The name tf.losses.sparse_softmax_cross_entropy is deprecated. Please use tf.compat.v1.losses.sparse_softmax_cross_entropy instead.\n",
      "\n"
     ]
    }
   ],
   "source": [
    "import tensorflow as tf\n",
    "import seaborn as sns\n",
    "import numpy as np\n",
    "import pandas as pd\n",
    "import matplotlib.pyplot as plt\n",
    "import sklearn.preprocessing\n",
    "from sklearn.metrics import r2_score\n",
    "from sklearn.preprocessing import MinMaxScaler\n",
    "from sklearn.model_selection import train_test_split\n",
    "from sklearn.metrics import mean_absolute_error, mean_squared_error\n",
    "from tensorflow.keras.callbacks import EarlyStopping\n",
    "from keras.layers import Dense,Dropout,SimpleRNN,LSTM,GRU\n",
    "from keras.models import Sequential\n",
    "from tensorflow import keras"
   ]
  },
  {
   "cell_type": "code",
   "execution_count": 2,
   "id": "ebe5587b0867903b",
   "metadata": {
    "ExecuteTime": {
     "end_time": "2023-12-11T08:07:16.641871Z",
     "start_time": "2023-12-11T08:07:16.578749900Z"
    },
    "collapsed": false
   },
   "outputs": [],
   "source": [
    "# Load your dataset\n",
    "# Assuming your dataset has columns 'datetime', 'total_visitor', 'total_accomodation'\n",
    "# Adjust the file path accordingly\n",
    "\n",
    "data = pd.read_csv('KepRiau 2015 - 2022.csv')\n",
    "\n",
    "# Convert 'datetime' column to datetime type\n",
    "data['datetime'] = pd.to_datetime(data['datetime'])\n",
    "\n",
    "# Set 'datetime' column as index\n",
    "data.set_index('datetime', inplace=True)\n",
    "\n",
    "# Normalize the data\n",
    "scaler = MinMaxScaler()\n",
    "data_scaled = scaler.fit_transform(data)\n",
    "\n",
    "# Define your input and output variables\n",
    "X = data_scaled[:, 1]  # 'total_accomodation' as input\n",
    "y = data_scaled[:, 0]  # 'total_visitor' as output\n",
    "\n",
    "# Split the data into training and testing sets\n",
    "X_train, X_test, y_train, y_test = train_test_split(X, y, test_size=0.2, shuffle=False)\n"
   ]
  },
  {
   "cell_type": "code",
   "execution_count": 3,
   "id": "9ebfab23",
   "metadata": {},
   "outputs": [],
   "source": [
    "# Reshape data for GRU input\n",
    "X_train = X_train.reshape((X_train.shape[0], 1, 1))\n",
    "X_test = X_test.reshape((X_test.shape[0], 1, 1))\n"
   ]
  },
  {
   "cell_type": "code",
   "execution_count": 4,
   "id": "7bf76327",
   "metadata": {},
   "outputs": [
    {
     "name": "stdout",
     "output_type": "stream",
     "text": [
      "WARNING:tensorflow:From c:\\Users\\atrke\\AppData\\Local\\Programs\\Python\\Python39\\lib\\site-packages\\keras\\src\\backend.py:873: The name tf.get_default_graph is deprecated. Please use tf.compat.v1.get_default_graph instead.\n",
      "\n",
      "WARNING:tensorflow:From c:\\Users\\atrke\\AppData\\Local\\Programs\\Python\\Python39\\lib\\site-packages\\keras\\src\\optimizers\\__init__.py:309: The name tf.train.Optimizer is deprecated. Please use tf.compat.v1.train.Optimizer instead.\n",
      "\n",
      "Epoch 1/50\n",
      "WARNING:tensorflow:From c:\\Users\\atrke\\AppData\\Local\\Programs\\Python\\Python39\\lib\\site-packages\\keras\\src\\utils\\tf_utils.py:492: The name tf.ragged.RaggedTensorValue is deprecated. Please use tf.compat.v1.ragged.RaggedTensorValue instead.\n",
      "\n",
      "3/3 - 2s - loss: 0.2754 - val_loss: 0.0249 - 2s/epoch - 673ms/step\n",
      "Epoch 2/50\n",
      "3/3 - 0s - loss: 0.2476 - val_loss: 0.0263 - 31ms/epoch - 10ms/step\n",
      "Epoch 3/50\n",
      "3/3 - 0s - loss: 0.2214 - val_loss: 0.0313 - 51ms/epoch - 17ms/step\n",
      "Epoch 4/50\n",
      "3/3 - 0s - loss: 0.1979 - val_loss: 0.0397 - 35ms/epoch - 12ms/step\n",
      "Epoch 5/50\n",
      "3/3 - 0s - loss: 0.1760 - val_loss: 0.0514 - 32ms/epoch - 11ms/step\n",
      "Epoch 6/50\n",
      "3/3 - 0s - loss: 0.1574 - val_loss: 0.0664 - 49ms/epoch - 16ms/step\n",
      "Epoch 7/50\n",
      "3/3 - 0s - loss: 0.1388 - val_loss: 0.0843 - 29ms/epoch - 10ms/step\n",
      "Epoch 8/50\n",
      "3/3 - 0s - loss: 0.1229 - val_loss: 0.1048 - 54ms/epoch - 18ms/step\n",
      "Epoch 9/50\n",
      "3/3 - 0s - loss: 0.1106 - val_loss: 0.1281 - 36ms/epoch - 12ms/step\n",
      "Epoch 10/50\n",
      "3/3 - 0s - loss: 0.0985 - val_loss: 0.1530 - 42ms/epoch - 14ms/step\n",
      "Epoch 11/50\n",
      "3/3 - 0s - loss: 0.0899 - val_loss: 0.1797 - 38ms/epoch - 13ms/step\n",
      "Epoch 12/50\n",
      "3/3 - 0s - loss: 0.0825 - val_loss: 0.2067 - 32ms/epoch - 11ms/step\n",
      "Epoch 13/50\n",
      "3/3 - 0s - loss: 0.0773 - val_loss: 0.2336 - 47ms/epoch - 16ms/step\n",
      "Epoch 14/50\n",
      "3/3 - 0s - loss: 0.0735 - val_loss: 0.2589 - 37ms/epoch - 12ms/step\n",
      "Epoch 15/50\n",
      "3/3 - 0s - loss: 0.0710 - val_loss: 0.2815 - 41ms/epoch - 14ms/step\n",
      "Epoch 16/50\n",
      "3/3 - 0s - loss: 0.0692 - val_loss: 0.3000 - 42ms/epoch - 14ms/step\n",
      "Epoch 17/50\n",
      "3/3 - 0s - loss: 0.0682 - val_loss: 0.3141 - 32ms/epoch - 11ms/step\n",
      "Epoch 18/50\n",
      "3/3 - 0s - loss: 0.0679 - val_loss: 0.3244 - 48ms/epoch - 16ms/step\n",
      "Epoch 19/50\n",
      "3/3 - 0s - loss: 0.0676 - val_loss: 0.3298 - 32ms/epoch - 11ms/step\n",
      "Epoch 20/50\n",
      "3/3 - 0s - loss: 0.0674 - val_loss: 0.3315 - 37ms/epoch - 12ms/step\n",
      "Epoch 21/50\n",
      "3/3 - 0s - loss: 0.0671 - val_loss: 0.3302 - 47ms/epoch - 16ms/step\n",
      "Epoch 22/50\n",
      "3/3 - 0s - loss: 0.0666 - val_loss: 0.3235 - 32ms/epoch - 11ms/step\n",
      "Epoch 23/50\n",
      "3/3 - 0s - loss: 0.0660 - val_loss: 0.3164 - 47ms/epoch - 16ms/step\n",
      "Epoch 24/50\n",
      "3/3 - 0s - loss: 0.0654 - val_loss: 0.3078 - 71ms/epoch - 24ms/step\n",
      "Epoch 25/50\n",
      "3/3 - 0s - loss: 0.0648 - val_loss: 0.2993 - 50ms/epoch - 17ms/step\n",
      "Epoch 26/50\n",
      "3/3 - 0s - loss: 0.0643 - val_loss: 0.2903 - 28ms/epoch - 9ms/step\n",
      "Epoch 27/50\n",
      "3/3 - 0s - loss: 0.0637 - val_loss: 0.2836 - 31ms/epoch - 10ms/step\n",
      "Epoch 28/50\n",
      "3/3 - 0s - loss: 0.0634 - val_loss: 0.2747 - 40ms/epoch - 13ms/step\n",
      "Epoch 29/50\n",
      "3/3 - 0s - loss: 0.0628 - val_loss: 0.2692 - 31ms/epoch - 10ms/step\n",
      "Epoch 30/50\n",
      "3/3 - 0s - loss: 0.0626 - val_loss: 0.2622 - 31ms/epoch - 10ms/step\n",
      "Epoch 31/50\n",
      "3/3 - 0s - loss: 0.0620 - val_loss: 0.2578 - 36ms/epoch - 12ms/step\n",
      "Epoch 32/50\n",
      "3/3 - 0s - loss: 0.0616 - val_loss: 0.2557 - 37ms/epoch - 12ms/step\n",
      "Epoch 33/50\n",
      "3/3 - 0s - loss: 0.0612 - val_loss: 0.2521 - 46ms/epoch - 15ms/step\n",
      "Epoch 34/50\n",
      "3/3 - 0s - loss: 0.0608 - val_loss: 0.2495 - 28ms/epoch - 9ms/step\n",
      "Epoch 35/50\n",
      "3/3 - 0s - loss: 0.0603 - val_loss: 0.2482 - 49ms/epoch - 16ms/step\n",
      "Epoch 36/50\n",
      "3/3 - 0s - loss: 0.0599 - val_loss: 0.2469 - 35ms/epoch - 12ms/step\n",
      "Epoch 37/50\n",
      "3/3 - 0s - loss: 0.0595 - val_loss: 0.2452 - 32ms/epoch - 11ms/step\n",
      "Epoch 38/50\n",
      "3/3 - 0s - loss: 0.0592 - val_loss: 0.2431 - 31ms/epoch - 10ms/step\n",
      "Epoch 39/50\n",
      "3/3 - 0s - loss: 0.0588 - val_loss: 0.2383 - 47ms/epoch - 16ms/step\n",
      "Epoch 40/50\n",
      "3/3 - 0s - loss: 0.0584 - val_loss: 0.2351 - 40ms/epoch - 13ms/step\n",
      "Epoch 41/50\n",
      "3/3 - 0s - loss: 0.0581 - val_loss: 0.2317 - 34ms/epoch - 11ms/step\n",
      "Epoch 42/50\n",
      "3/3 - 0s - loss: 0.0577 - val_loss: 0.2292 - 45ms/epoch - 15ms/step\n",
      "Epoch 43/50\n",
      "3/3 - 0s - loss: 0.0574 - val_loss: 0.2273 - 31ms/epoch - 10ms/step\n",
      "Epoch 44/50\n",
      "3/3 - 0s - loss: 0.0570 - val_loss: 0.2245 - 49ms/epoch - 16ms/step\n",
      "Epoch 45/50\n",
      "3/3 - 0s - loss: 0.0567 - val_loss: 0.2204 - 32ms/epoch - 11ms/step\n",
      "Epoch 46/50\n",
      "3/3 - 0s - loss: 0.0564 - val_loss: 0.2180 - 47ms/epoch - 16ms/step\n",
      "Epoch 47/50\n",
      "3/3 - 0s - loss: 0.0561 - val_loss: 0.2150 - 32ms/epoch - 11ms/step\n",
      "Epoch 48/50\n",
      "3/3 - 0s - loss: 0.0558 - val_loss: 0.2143 - 42ms/epoch - 14ms/step\n",
      "Epoch 49/50\n",
      "3/3 - 0s - loss: 0.0555 - val_loss: 0.2103 - 49ms/epoch - 16ms/step\n",
      "Epoch 50/50\n",
      "3/3 - 0s - loss: 0.0552 - val_loss: 0.2062 - 32ms/epoch - 11ms/step\n"
     ]
    },
    {
     "data": {
      "text/plain": [
       "<keras.src.callbacks.History at 0x147b79029a0>"
      ]
     },
     "execution_count": 4,
     "metadata": {},
     "output_type": "execute_result"
    }
   ],
   "source": [
    "model = Sequential()\n",
    "model.add(GRU(50, input_shape=(X_train.shape[1], X_train.shape[2])))\n",
    "model.add(Dense(1))\n",
    "model.compile(optimizer='adam', loss='mse')\n",
    "\n",
    "# Train the model\n",
    "model.fit(X_train, y_train, epochs=50, batch_size=32, validation_data=(X_test, y_test), verbose=2)\n"
   ]
  },
  {
   "cell_type": "code",
   "execution_count": 5,
   "id": "8b01fdc8",
   "metadata": {},
   "outputs": [
    {
     "name": "stdout",
     "output_type": "stream",
     "text": [
      "1/1 [==============================] - 0s 314ms/step\n",
      "Mean Squared Error (MSE): 7860451.637028774\n",
      "Mean Absolute Error (MAE): 2651.8717763075433\n",
      "Mean Absolute Percentage Error (MAPE): 25.64%\n"
     ]
    }
   ],
   "source": [
    "# Make predictions on the test set\n",
    "y_pred = model.predict(X_test)\n",
    "\n",
    "# Inverse transform the scaled predictions and actual values\n",
    "y_pred_inv = scaler.inverse_transform(np.column_stack((np.zeros_like(y_pred), y_pred)))[:, 1]\n",
    "y_test_inv = scaler.inverse_transform(np.column_stack((np.zeros_like(y_test), y_test)))[:, 1]\n",
    "\n",
    "# Calculate evaluation metrics\n",
    "mse = mean_squared_error(y_test_inv, y_pred_inv)\n",
    "mae = mean_absolute_error(y_test_inv, y_pred_inv)\n",
    "mape = np.mean(np.abs((y_test_inv - y_pred_inv) / y_test_inv)) * 100\n",
    "\n",
    "print(f'Mean Squared Error (MSE): {mse}')\n",
    "print(f'Mean Absolute Error (MAE): {mae}')\n",
    "print(f'Mean Absolute Percentage Error (MAPE): {mape:.2f}%')\n"
   ]
  },
  {
   "cell_type": "code",
   "execution_count": 6,
   "metadata": {},
   "outputs": [
    {
     "name": "stdout",
     "output_type": "stream",
     "text": [
      "1/1 [==============================] - 0s 26ms/step\n"
     ]
    }
   ],
   "source": [
    "# Forecast for the next 12 periods\n",
    "future_periods = 12\n",
    "X_future = np.linspace(X[-1], X[-1] + future_periods, future_periods + 1).reshape(-1, 1, 1)\n",
    "y_future_pred = model.predict(X_future)\n",
    "\n",
    "# Inverse transform the scaled predictions\n",
    "y_future_pred_inv = scaler.inverse_transform(np.column_stack((np.zeros_like(y_future_pred), y_future_pred)))[:, 1]\n",
    "\n",
    "# Create a date range for the future periods\n",
    "future_dates = pd.date_range(start=data.index[-1], periods=future_periods + 2, freq='M')[1:]\n"
   ]
  },
  {
   "cell_type": "markdown",
   "id": "777a4454",
   "metadata": {},
   "source": [
    "TEST SIZE 70:30"
   ]
  },
  {
   "cell_type": "code",
   "execution_count": 7,
   "id": "15c6fbb1",
   "metadata": {},
   "outputs": [],
   "source": [
    "# Split the data into training and testing sets\n",
    "X_train, X_test, y_train, y_test = train_test_split(X, y, test_size=0.3, shuffle=False)"
   ]
  },
  {
   "cell_type": "code",
   "execution_count": 8,
   "id": "b2776850",
   "metadata": {},
   "outputs": [],
   "source": [
    "# Reshape data for GRU input\n",
    "X_train = X_train.reshape((X_train.shape[0], 1, 1))\n",
    "X_test = X_test.reshape((X_test.shape[0], 1, 1))\n"
   ]
  },
  {
   "cell_type": "code",
   "execution_count": 9,
   "id": "e16d6e66",
   "metadata": {},
   "outputs": [
    {
     "name": "stdout",
     "output_type": "stream",
     "text": [
      "Epoch 1/50\n",
      "3/3 - 2s - loss: 0.3677 - val_loss: 0.0254 - 2s/epoch - 619ms/step\n",
      "Epoch 2/50\n",
      "3/3 - 0s - loss: 0.3309 - val_loss: 0.0209 - 36ms/epoch - 12ms/step\n",
      "Epoch 3/50\n",
      "3/3 - 0s - loss: 0.2955 - val_loss: 0.0200 - 38ms/epoch - 13ms/step\n",
      "Epoch 4/50\n",
      "3/3 - 0s - loss: 0.2628 - val_loss: 0.0226 - 29ms/epoch - 10ms/step\n",
      "Epoch 5/50\n",
      "3/3 - 0s - loss: 0.2318 - val_loss: 0.0287 - 31ms/epoch - 10ms/step\n",
      "Epoch 6/50\n",
      "3/3 - 0s - loss: 0.2034 - val_loss: 0.0382 - 48ms/epoch - 16ms/step\n",
      "Epoch 7/50\n",
      "3/3 - 0s - loss: 0.1766 - val_loss: 0.0510 - 32ms/epoch - 11ms/step\n",
      "Epoch 8/50\n",
      "3/3 - 0s - loss: 0.1525 - val_loss: 0.0670 - 45ms/epoch - 15ms/step\n",
      "Epoch 9/50\n",
      "3/3 - 0s - loss: 0.1299 - val_loss: 0.0860 - 43ms/epoch - 14ms/step\n",
      "Epoch 10/50\n",
      "3/3 - 0s - loss: 0.1094 - val_loss: 0.1082 - 46ms/epoch - 15ms/step\n",
      "Epoch 11/50\n",
      "3/3 - 0s - loss: 0.0914 - val_loss: 0.1335 - 38ms/epoch - 13ms/step\n",
      "Epoch 12/50\n",
      "3/3 - 0s - loss: 0.0750 - val_loss: 0.1614 - 35ms/epoch - 12ms/step\n",
      "Epoch 13/50\n",
      "3/3 - 0s - loss: 0.0613 - val_loss: 0.1915 - 48ms/epoch - 16ms/step\n",
      "Epoch 14/50\n",
      "3/3 - 0s - loss: 0.0489 - val_loss: 0.2225 - 31ms/epoch - 10ms/step\n",
      "Epoch 15/50\n",
      "3/3 - 0s - loss: 0.0390 - val_loss: 0.2544 - 52ms/epoch - 17ms/step\n",
      "Epoch 16/50\n",
      "3/3 - 0s - loss: 0.0312 - val_loss: 0.2869 - 35ms/epoch - 12ms/step\n",
      "Epoch 17/50\n",
      "3/3 - 0s - loss: 0.0251 - val_loss: 0.3192 - 30ms/epoch - 10ms/step\n",
      "Epoch 18/50\n",
      "3/3 - 0s - loss: 0.0205 - val_loss: 0.3501 - 52ms/epoch - 17ms/step\n",
      "Epoch 19/50\n",
      "3/3 - 0s - loss: 0.0172 - val_loss: 0.3794 - 43ms/epoch - 14ms/step\n",
      "Epoch 20/50\n",
      "3/3 - 0s - loss: 0.0151 - val_loss: 0.4069 - 23ms/epoch - 8ms/step\n",
      "Epoch 21/50\n",
      "3/3 - 0s - loss: 0.0138 - val_loss: 0.4309 - 35ms/epoch - 12ms/step\n",
      "Epoch 22/50\n",
      "3/3 - 0s - loss: 0.0131 - val_loss: 0.4518 - 28ms/epoch - 9ms/step\n",
      "Epoch 23/50\n",
      "3/3 - 0s - loss: 0.0132 - val_loss: 0.4691 - 44ms/epoch - 15ms/step\n",
      "Epoch 24/50\n",
      "3/3 - 0s - loss: 0.0131 - val_loss: 0.4807 - 28ms/epoch - 9ms/step\n",
      "Epoch 25/50\n",
      "3/3 - 0s - loss: 0.0133 - val_loss: 0.4886 - 47ms/epoch - 16ms/step\n",
      "Epoch 26/50\n",
      "3/3 - 0s - loss: 0.0134 - val_loss: 0.4928 - 32ms/epoch - 11ms/step\n",
      "Epoch 27/50\n",
      "3/3 - 0s - loss: 0.0135 - val_loss: 0.4939 - 32ms/epoch - 11ms/step\n",
      "Epoch 28/50\n",
      "3/3 - 0s - loss: 0.0135 - val_loss: 0.4928 - 40ms/epoch - 13ms/step\n",
      "Epoch 29/50\n",
      "3/3 - 0s - loss: 0.0135 - val_loss: 0.4889 - 44ms/epoch - 15ms/step\n",
      "Epoch 30/50\n",
      "3/3 - 0s - loss: 0.0134 - val_loss: 0.4839 - 61ms/epoch - 20ms/step\n",
      "Epoch 31/50\n",
      "3/3 - 0s - loss: 0.0133 - val_loss: 0.4781 - 45ms/epoch - 15ms/step\n",
      "Epoch 32/50\n",
      "3/3 - 0s - loss: 0.0132 - val_loss: 0.4728 - 30ms/epoch - 10ms/step\n",
      "Epoch 33/50\n",
      "3/3 - 0s - loss: 0.0131 - val_loss: 0.4684 - 31ms/epoch - 10ms/step\n",
      "Epoch 34/50\n",
      "3/3 - 0s - loss: 0.0131 - val_loss: 0.4647 - 31ms/epoch - 10ms/step\n",
      "Epoch 35/50\n",
      "3/3 - 0s - loss: 0.0131 - val_loss: 0.4620 - 49ms/epoch - 16ms/step\n",
      "Epoch 36/50\n",
      "3/3 - 0s - loss: 0.0131 - val_loss: 0.4592 - 31ms/epoch - 10ms/step\n",
      "Epoch 37/50\n",
      "3/3 - 0s - loss: 0.0131 - val_loss: 0.4576 - 41ms/epoch - 14ms/step\n",
      "Epoch 38/50\n",
      "3/3 - 0s - loss: 0.0131 - val_loss: 0.4572 - 46ms/epoch - 15ms/step\n",
      "Epoch 39/50\n",
      "3/3 - 0s - loss: 0.0131 - val_loss: 0.4574 - 32ms/epoch - 11ms/step\n",
      "Epoch 40/50\n",
      "3/3 - 0s - loss: 0.0131 - val_loss: 0.4569 - 47ms/epoch - 16ms/step\n",
      "Epoch 41/50\n",
      "3/3 - 0s - loss: 0.0131 - val_loss: 0.4564 - 54ms/epoch - 18ms/step\n",
      "Epoch 42/50\n",
      "3/3 - 0s - loss: 0.0131 - val_loss: 0.4569 - 43ms/epoch - 14ms/step\n",
      "Epoch 43/50\n",
      "3/3 - 0s - loss: 0.0131 - val_loss: 0.4591 - 47ms/epoch - 16ms/step\n",
      "Epoch 44/50\n",
      "3/3 - 0s - loss: 0.0131 - val_loss: 0.4605 - 39ms/epoch - 13ms/step\n",
      "Epoch 45/50\n",
      "3/3 - 0s - loss: 0.0131 - val_loss: 0.4628 - 40ms/epoch - 13ms/step\n",
      "Epoch 46/50\n",
      "3/3 - 0s - loss: 0.0131 - val_loss: 0.4630 - 45ms/epoch - 15ms/step\n",
      "Epoch 47/50\n",
      "3/3 - 0s - loss: 0.0131 - val_loss: 0.4647 - 42ms/epoch - 14ms/step\n",
      "Epoch 48/50\n",
      "3/3 - 0s - loss: 0.0131 - val_loss: 0.4653 - 34ms/epoch - 11ms/step\n",
      "Epoch 49/50\n",
      "3/3 - 0s - loss: 0.0131 - val_loss: 0.4649 - 53ms/epoch - 18ms/step\n",
      "Epoch 50/50\n",
      "3/3 - 0s - loss: 0.0131 - val_loss: 0.4649 - 47ms/epoch - 16ms/step\n"
     ]
    },
    {
     "data": {
      "text/plain": [
       "<keras.src.callbacks.History at 0x147bc7cb310>"
      ]
     },
     "execution_count": 9,
     "metadata": {},
     "output_type": "execute_result"
    }
   ],
   "source": [
    "model = Sequential()\n",
    "model.add(GRU(50, input_shape=(X_train.shape[1], X_train.shape[2])))\n",
    "model.add(Dense(1))\n",
    "model.compile(optimizer='adam', loss='mse')\n",
    "\n",
    "# Train the model\n",
    "model.fit(X_train, y_train, epochs=50, batch_size=32, validation_data=(X_test, y_test), verbose=2)\n"
   ]
  },
  {
   "cell_type": "code",
   "execution_count": 10,
   "id": "49b9110b",
   "metadata": {},
   "outputs": [
    {
     "name": "stdout",
     "output_type": "stream",
     "text": [
      "2/2 [==============================] - 0s 8ms/step\n",
      "Mean Squared Error (MSE): 17722985.545690108\n",
      "Mean Absolute Error (MAE): 4141.011065692119\n",
      "Mean Absolute Percentage Error (MAPE): 40.17%\n"
     ]
    }
   ],
   "source": [
    "# Make predictions on the test set\n",
    "y_pred = model.predict(X_test)\n",
    "\n",
    "# Inverse transform the scaled predictions and actual values\n",
    "y_pred_inv = scaler.inverse_transform(np.column_stack((np.zeros_like(y_pred), y_pred)))[:, 1]\n",
    "y_test_inv = scaler.inverse_transform(np.column_stack((np.zeros_like(y_test), y_test)))[:, 1]\n",
    "\n",
    "# Calculate evaluation metrics\n",
    "mse = mean_squared_error(y_test_inv, y_pred_inv)\n",
    "mae = mean_absolute_error(y_test_inv, y_pred_inv)\n",
    "mape = np.mean(np.abs((y_test_inv - y_pred_inv) / y_test_inv)) * 100\n",
    "\n",
    "print(f'Mean Squared Error (MSE): {mse}')\n",
    "print(f'Mean Absolute Error (MAE): {mae}')\n",
    "print(f'Mean Absolute Percentage Error (MAPE): {mape:.2f}%')\n"
   ]
  },
  {
   "cell_type": "code",
   "execution_count": 11,
   "id": "05f28193",
   "metadata": {},
   "outputs": [
    {
     "name": "stdout",
     "output_type": "stream",
     "text": [
      "1/1 [==============================] - 0s 22ms/step\n"
     ]
    }
   ],
   "source": [
    "# Forecast for the next 12 periods\n",
    "future_periods = 12\n",
    "X_future = np.linspace(X[-1], X[-1] + future_periods, future_periods + 1).reshape(-1, 1, 1)\n",
    "y_future_pred = model.predict(X_future)\n",
    "\n",
    "# Inverse transform the scaled predictions\n",
    "y_future_pred_inv_30 = scaler.inverse_transform(np.column_stack((np.zeros_like(y_future_pred), y_future_pred)))[:, 1]\n",
    "\n",
    "# Create a date range for the future periods\n",
    "future_dates_30 = pd.date_range(start=data.index[-1], periods=future_periods + 2, freq='M')[1:]\n",
    "\n"
   ]
  },
  {
   "cell_type": "markdown",
   "id": "de336f49",
   "metadata": {},
   "source": [
    "TEST SIZE 60:40"
   ]
  },
  {
   "cell_type": "code",
   "execution_count": 12,
   "id": "e71bccf7",
   "metadata": {},
   "outputs": [],
   "source": [
    "# Split the data into training and testing sets\n",
    "X_train, X_test, y_train, y_test = train_test_split(X, y, test_size=0.4, shuffle=False)"
   ]
  },
  {
   "cell_type": "code",
   "execution_count": 13,
   "id": "28fb4483",
   "metadata": {},
   "outputs": [],
   "source": [
    "# Reshape data for GRU input\n",
    "X_train = X_train.reshape((X_train.shape[0], 1, 1))\n",
    "X_test = X_test.reshape((X_test.shape[0], 1, 1))\n"
   ]
  },
  {
   "cell_type": "code",
   "execution_count": 14,
   "id": "a3fabf74",
   "metadata": {},
   "outputs": [
    {
     "name": "stdout",
     "output_type": "stream",
     "text": [
      "Epoch 1/50\n",
      "2/2 - 2s - loss: 0.3082 - val_loss: 0.1155 - 2s/epoch - 842ms/step\n",
      "Epoch 2/50\n",
      "2/2 - 0s - loss: 0.2899 - val_loss: 0.1097 - 49ms/epoch - 25ms/step\n",
      "Epoch 3/50\n",
      "2/2 - 0s - loss: 0.2721 - val_loss: 0.1049 - 31ms/epoch - 16ms/step\n",
      "Epoch 4/50\n",
      "2/2 - 0s - loss: 0.2547 - val_loss: 0.1012 - 35ms/epoch - 17ms/step\n",
      "Epoch 5/50\n",
      "2/2 - 0s - loss: 0.2379 - val_loss: 0.0985 - 32ms/epoch - 16ms/step\n",
      "Epoch 6/50\n",
      "2/2 - 0s - loss: 0.2214 - val_loss: 0.0969 - 33ms/epoch - 17ms/step\n",
      "Epoch 7/50\n",
      "2/2 - 0s - loss: 0.2060 - val_loss: 0.0964 - 33ms/epoch - 17ms/step\n",
      "Epoch 8/50\n",
      "2/2 - 0s - loss: 0.1909 - val_loss: 0.0969 - 36ms/epoch - 18ms/step\n",
      "Epoch 9/50\n",
      "2/2 - 0s - loss: 0.1764 - val_loss: 0.0986 - 35ms/epoch - 18ms/step\n",
      "Epoch 10/50\n",
      "2/2 - 0s - loss: 0.1618 - val_loss: 0.1013 - 33ms/epoch - 16ms/step\n",
      "Epoch 11/50\n",
      "2/2 - 0s - loss: 0.1481 - val_loss: 0.1052 - 35ms/epoch - 17ms/step\n",
      "Epoch 12/50\n",
      "2/2 - 0s - loss: 0.1349 - val_loss: 0.1102 - 32ms/epoch - 16ms/step\n",
      "Epoch 13/50\n",
      "2/2 - 0s - loss: 0.1222 - val_loss: 0.1164 - 34ms/epoch - 17ms/step\n",
      "Epoch 14/50\n",
      "2/2 - 0s - loss: 0.1101 - val_loss: 0.1237 - 33ms/epoch - 17ms/step\n",
      "Epoch 15/50\n",
      "2/2 - 0s - loss: 0.0986 - val_loss: 0.1323 - 33ms/epoch - 17ms/step\n",
      "Epoch 16/50\n",
      "2/2 - 0s - loss: 0.0879 - val_loss: 0.1421 - 33ms/epoch - 17ms/step\n",
      "Epoch 17/50\n",
      "2/2 - 0s - loss: 0.0773 - val_loss: 0.1530 - 39ms/epoch - 19ms/step\n",
      "Epoch 18/50\n",
      "2/2 - 0s - loss: 0.0681 - val_loss: 0.1651 - 28ms/epoch - 14ms/step\n",
      "Epoch 19/50\n",
      "2/2 - 0s - loss: 0.0592 - val_loss: 0.1783 - 47ms/epoch - 24ms/step\n",
      "Epoch 20/50\n",
      "2/2 - 0s - loss: 0.0511 - val_loss: 0.1926 - 33ms/epoch - 17ms/step\n",
      "Epoch 21/50\n",
      "2/2 - 0s - loss: 0.0438 - val_loss: 0.2079 - 33ms/epoch - 17ms/step\n",
      "Epoch 22/50\n",
      "2/2 - 0s - loss: 0.0369 - val_loss: 0.2239 - 33ms/epoch - 17ms/step\n",
      "Epoch 23/50\n",
      "2/2 - 0s - loss: 0.0314 - val_loss: 0.2407 - 33ms/epoch - 17ms/step\n",
      "Epoch 24/50\n",
      "2/2 - 0s - loss: 0.0262 - val_loss: 0.2581 - 33ms/epoch - 17ms/step\n",
      "Epoch 25/50\n",
      "2/2 - 0s - loss: 0.0219 - val_loss: 0.2758 - 33ms/epoch - 16ms/step\n",
      "Epoch 26/50\n",
      "2/2 - 0s - loss: 0.0182 - val_loss: 0.2937 - 33ms/epoch - 17ms/step\n",
      "Epoch 27/50\n",
      "2/2 - 0s - loss: 0.0153 - val_loss: 0.3114 - 33ms/epoch - 17ms/step\n",
      "Epoch 28/50\n",
      "2/2 - 0s - loss: 0.0128 - val_loss: 0.3287 - 34ms/epoch - 17ms/step\n",
      "Epoch 29/50\n",
      "2/2 - 0s - loss: 0.0110 - val_loss: 0.3454 - 33ms/epoch - 17ms/step\n",
      "Epoch 30/50\n",
      "2/2 - 0s - loss: 0.0098 - val_loss: 0.3612 - 33ms/epoch - 17ms/step\n",
      "Epoch 31/50\n",
      "2/2 - 0s - loss: 0.0089 - val_loss: 0.3760 - 33ms/epoch - 17ms/step\n",
      "Epoch 32/50\n",
      "2/2 - 0s - loss: 0.0082 - val_loss: 0.3892 - 33ms/epoch - 17ms/step\n",
      "Epoch 33/50\n",
      "2/2 - 0s - loss: 0.0080 - val_loss: 0.4013 - 34ms/epoch - 17ms/step\n",
      "Epoch 34/50\n",
      "2/2 - 0s - loss: 0.0079 - val_loss: 0.4115 - 34ms/epoch - 17ms/step\n",
      "Epoch 35/50\n",
      "2/2 - 0s - loss: 0.0079 - val_loss: 0.4201 - 33ms/epoch - 17ms/step\n",
      "Epoch 36/50\n",
      "2/2 - 0s - loss: 0.0079 - val_loss: 0.4268 - 45ms/epoch - 22ms/step\n",
      "Epoch 37/50\n",
      "2/2 - 0s - loss: 0.0080 - val_loss: 0.4319 - 40ms/epoch - 20ms/step\n",
      "Epoch 38/50\n",
      "2/2 - 0s - loss: 0.0081 - val_loss: 0.4355 - 32ms/epoch - 16ms/step\n",
      "Epoch 39/50\n",
      "2/2 - 0s - loss: 0.0082 - val_loss: 0.4374 - 32ms/epoch - 16ms/step\n",
      "Epoch 40/50\n",
      "2/2 - 0s - loss: 0.0083 - val_loss: 0.4384 - 34ms/epoch - 17ms/step\n",
      "Epoch 41/50\n",
      "2/2 - 0s - loss: 0.0083 - val_loss: 0.4379 - 66ms/epoch - 33ms/step\n",
      "Epoch 42/50\n",
      "2/2 - 0s - loss: 0.0082 - val_loss: 0.4367 - 34ms/epoch - 17ms/step\n",
      "Epoch 43/50\n",
      "2/2 - 0s - loss: 0.0082 - val_loss: 0.4351 - 33ms/epoch - 16ms/step\n",
      "Epoch 44/50\n",
      "2/2 - 0s - loss: 0.0082 - val_loss: 0.4327 - 43ms/epoch - 21ms/step\n",
      "Epoch 45/50\n",
      "2/2 - 0s - loss: 0.0081 - val_loss: 0.4301 - 24ms/epoch - 12ms/step\n",
      "Epoch 46/50\n",
      "2/2 - 0s - loss: 0.0080 - val_loss: 0.4272 - 34ms/epoch - 17ms/step\n",
      "Epoch 47/50\n",
      "2/2 - 0s - loss: 0.0080 - val_loss: 0.4238 - 39ms/epoch - 19ms/step\n",
      "Epoch 48/50\n",
      "2/2 - 0s - loss: 0.0079 - val_loss: 0.4209 - 29ms/epoch - 15ms/step\n",
      "Epoch 49/50\n",
      "2/2 - 0s - loss: 0.0079 - val_loss: 0.4182 - 42ms/epoch - 21ms/step\n",
      "Epoch 50/50\n",
      "2/2 - 0s - loss: 0.0079 - val_loss: 0.4154 - 23ms/epoch - 12ms/step\n"
     ]
    },
    {
     "data": {
      "text/plain": [
       "<keras.src.callbacks.History at 0x147bfd02af0>"
      ]
     },
     "execution_count": 14,
     "metadata": {},
     "output_type": "execute_result"
    }
   ],
   "source": [
    "model = Sequential()\n",
    "model.add(GRU(50, input_shape=(X_train.shape[1], X_train.shape[2])))\n",
    "model.add(Dense(1))\n",
    "model.compile(optimizer='adam', loss='mse')\n",
    "\n",
    "# Train the model\n",
    "model.fit(X_train, y_train, epochs=50, batch_size=32, validation_data=(X_test, y_test), verbose=2)\n"
   ]
  },
  {
   "cell_type": "code",
   "execution_count": 15,
   "id": "5acc9423",
   "metadata": {},
   "outputs": [
    {
     "name": "stdout",
     "output_type": "stream",
     "text": [
      "2/2 [==============================] - 0s 0s/step\n",
      "Mean Squared Error (MSE): 15834094.714701325\n",
      "Mean Absolute Error (MAE): 3555.236824773981\n",
      "Mean Absolute Percentage Error (MAPE): 34.08%\n"
     ]
    }
   ],
   "source": [
    "# Make predictions on the test set\n",
    "y_pred = model.predict(X_test)\n",
    "\n",
    "# Inverse transform the scaled predictions and actual values\n",
    "y_pred_inv = scaler.inverse_transform(np.column_stack((np.zeros_like(y_pred), y_pred)))[:, 1]\n",
    "y_test_inv = scaler.inverse_transform(np.column_stack((np.zeros_like(y_test), y_test)))[:, 1]\n",
    "\n",
    "# Calculate evaluation metrics\n",
    "mse = mean_squared_error(y_test_inv, y_pred_inv)\n",
    "mae = mean_absolute_error(y_test_inv, y_pred_inv)\n",
    "mape = np.mean(np.abs((y_test_inv - y_pred_inv) / y_test_inv)) * 100\n",
    "\n",
    "print(f'Mean Squared Error (MSE): {mse}')\n",
    "print(f'Mean Absolute Error (MAE): {mae}')\n",
    "print(f'Mean Absolute Percentage Error (MAPE): {mape:.2f}%')\n"
   ]
  },
  {
   "cell_type": "code",
   "execution_count": 16,
   "id": "314d67ad",
   "metadata": {},
   "outputs": [
    {
     "name": "stdout",
     "output_type": "stream",
     "text": [
      "1/1 [==============================] - 0s 28ms/step\n"
     ]
    }
   ],
   "source": [
    "# Forecast for the next 12 periods\n",
    "future_periods = 12\n",
    "X_future = np.linspace(X[-1], X[-1] + future_periods, future_periods + 1).reshape(-1, 1, 1)\n",
    "y_future_pred = model.predict(X_future)\n",
    "\n",
    "# Inverse transform the scaled predictions\n",
    "y_future_pred_inv_40 = scaler.inverse_transform(np.column_stack((np.zeros_like(y_future_pred), y_future_pred)))[:, 1]\n",
    "\n",
    "# Create a date range for the future periods\n",
    "future_dates_40 = pd.date_range(start=data.index[-1], periods=future_periods + 2, freq='M')[1:]\n",
    "\n"
   ]
  },
  {
   "cell_type": "markdown",
   "id": "6c243912",
   "metadata": {},
   "source": [
    "VISUALIZATION"
   ]
  },
  {
   "cell_type": "code",
   "execution_count": 17,
   "id": "5f0fcee3",
   "metadata": {},
   "outputs": [
    {
     "data": {
      "image/png": "[encoded data removed]",
      "text/plain": [
       "<Figure size 640x480 with 1 Axes>"
      ]
     },
     "metadata": {},
     "output_type": "display_data"
    }
   ],
   "source": [
    "\n",
    "# Plot the results\n",
    "plt.plot(data.index, data['total_visitor'], label='Actual')\n",
    "plt.plot(future_dates, y_future_pred_inv, label='Forecast')\n",
    "plt.plot(future_dates_30, y_future_pred_inv_30, label='Forecast')\n",
    "plt.plot(future_dates_40, y_future_pred_inv_40, label='Forecast')\n",
    "plt.legend()\n",
    "plt.show()"
   ]
  }
 ],
 "metadata": {
  "kernelspec": {
   "display_name": "Python 3",
   "language": "python",
   "name": "python3"
  },
  "language_info": {
   "codemirror_mode": {
    "name": "ipython",
    "version": 3
   },
   "file_extension": ".py",
   "mimetype": "text/x-python",
   "name": "python",
   "nbconvert_exporter": "python",
   "pygments_lexer": "ipython3",
   "version": "3.9.12"
  }
 },
 "nbformat": 4,
 "nbformat_minor": 5
}
