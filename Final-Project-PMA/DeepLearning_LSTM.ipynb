{
 "cells": [
  {
   "cell_type": "code",
   "execution_count": 31,
   "id": "initial_id",
   "metadata": {
    "ExecuteTime": {
     "end_time": "2023-12-11T08:07:14.600495500Z",
     "start_time": "2023-12-11T08:07:05.987298Z"
    },
    "collapsed": true
   },
   "outputs": [],
   "source": [
    "import tensorflow as tf\n",
    "import seaborn as sns\n",
    "import numpy as np\n",
    "import pandas as pd\n",
    "import matplotlib.pyplot as plt\n",
    "import sklearn.preprocessing\n",
    "from sklearn.metrics import r2_score\n",
    "from sklearn.preprocessing import MinMaxScaler\n",
    "from sklearn.model_selection import train_test_split\n",
    "from sklearn.metrics import mean_absolute_error, mean_squared_error\n",
    "from tensorflow.keras.callbacks import EarlyStopping\n",
    "from keras.layers import Dense,Dropout,SimpleRNN,LSTM,GRU\n",
    "from keras.models import Sequential\n",
    "from tensorflow import keras"
   ]
  },
  {
   "cell_type": "code",
   "execution_count": 32,
   "id": "7249d597",
   "metadata": {},
   "outputs": [],
   "source": [
    "# Load your dataset\n",
    "# Assuming your dataset has columns 'datetime', 'total_visitor', 'total_accomodation'\n",
    "# Adjust the file path accordingly\n",
    "\n",
    "data = pd.read_csv('KepRiau 2015 - 2022.csv')\n",
    "\n",
    "# Convert 'datetime' column to datetime type\n",
    "data['datetime'] = pd.to_datetime(data['datetime'])\n",
    "\n",
    "# Set 'datetime' column as index\n",
    "data.set_index('datetime', inplace=True)\n",
    "\n",
    "# Normalize the data\n",
    "scaler = MinMaxScaler()\n",
    "data_scaled = scaler.fit_transform(data)\n",
    "\n",
    "# Define your input and output variables\n",
    "X = data_scaled[:, 1]  # 'total_accomodation' as input\n",
    "y = data_scaled[:, 0]  # 'total_visitor' as output\n",
    "\n"
   ]
  },
  {
   "cell_type": "markdown",
   "id": "ae9fb3fa",
   "metadata": {},
   "source": [
    "TEST SIZE 80: 20"
   ]
  },
  {
   "cell_type": "code",
   "execution_count": 33,
   "id": "07e09fa8",
   "metadata": {},
   "outputs": [],
   "source": [
    "# Split the data into training and testing sets\n",
    "X_train, X_test, y_train, y_test = train_test_split(X, y, test_size=0.2, shuffle=False)"
   ]
  },
  {
   "cell_type": "code",
   "execution_count": 34,
   "id": "7102085d",
   "metadata": {},
   "outputs": [],
   "source": [
    "# Reshape data for LSTM input\n",
    "X_train = X_train.reshape((X_train.shape[0], 1, 1))\n",
    "X_test = X_test.reshape((X_test.shape[0], 1, 1))"
   ]
  },
  {
   "cell_type": "code",
   "execution_count": 35,
   "id": "711a6f4d",
   "metadata": {},
   "outputs": [
    {
     "name": "stdout",
     "output_type": "stream",
     "text": [
      "Epoch 1/50\n",
      "3/3 - 2s - loss: 0.3157 - val_loss: 0.0384 - 2s/epoch - 564ms/step\n",
      "Epoch 2/50\n",
      "3/3 - 0s - loss: 0.3038 - val_loss: 0.0349 - 31ms/epoch - 10ms/step\n",
      "Epoch 3/50\n",
      "3/3 - 0s - loss: 0.2921 - val_loss: 0.0320 - 40ms/epoch - 13ms/step\n",
      "Epoch 4/50\n",
      "3/3 - 0s - loss: 0.2804 - val_loss: 0.0296 - 31ms/epoch - 10ms/step\n",
      "Epoch 5/50\n",
      "3/3 - 0s - loss: 0.2688 - val_loss: 0.0277 - 32ms/epoch - 11ms/step\n",
      "Epoch 6/50\n",
      "3/3 - 0s - loss: 0.2579 - val_loss: 0.0264 - 32ms/epoch - 11ms/step\n",
      "Epoch 7/50\n",
      "3/3 - 0s - loss: 0.2470 - val_loss: 0.0257 - 29ms/epoch - 10ms/step\n",
      "Epoch 8/50\n",
      "3/3 - 0s - loss: 0.2363 - val_loss: 0.0255 - 32ms/epoch - 11ms/step\n",
      "Epoch 9/50\n",
      "3/3 - 0s - loss: 0.2256 - val_loss: 0.0260 - 32ms/epoch - 11ms/step\n",
      "Epoch 10/50\n",
      "3/3 - 0s - loss: 0.2156 - val_loss: 0.0271 - 32ms/epoch - 11ms/step\n",
      "Epoch 11/50\n",
      "3/3 - 0s - loss: 0.2052 - val_loss: 0.0288 - 39ms/epoch - 13ms/step\n",
      "Epoch 12/50\n",
      "3/3 - 0s - loss: 0.1955 - val_loss: 0.0313 - 31ms/epoch - 10ms/step\n",
      "Epoch 13/50\n",
      "3/3 - 0s - loss: 0.1858 - val_loss: 0.0344 - 32ms/epoch - 11ms/step\n",
      "Epoch 14/50\n",
      "3/3 - 0s - loss: 0.1760 - val_loss: 0.0383 - 32ms/epoch - 11ms/step\n",
      "Epoch 15/50\n",
      "3/3 - 0s - loss: 0.1669 - val_loss: 0.0431 - 42ms/epoch - 14ms/step\n",
      "Epoch 16/50\n",
      "3/3 - 0s - loss: 0.1580 - val_loss: 0.0486 - 30ms/epoch - 10ms/step\n",
      "Epoch 17/50\n",
      "3/3 - 0s - loss: 0.1491 - val_loss: 0.0550 - 41ms/epoch - 14ms/step\n",
      "Epoch 18/50\n",
      "3/3 - 0s - loss: 0.1407 - val_loss: 0.0623 - 39ms/epoch - 13ms/step\n",
      "Epoch 19/50\n",
      "3/3 - 0s - loss: 0.1327 - val_loss: 0.0706 - 65ms/epoch - 22ms/step\n",
      "Epoch 20/50\n",
      "3/3 - 0s - loss: 0.1254 - val_loss: 0.0798 - 32ms/epoch - 11ms/step\n",
      "Epoch 21/50\n",
      "3/3 - 0s - loss: 0.1182 - val_loss: 0.0898 - 47ms/epoch - 16ms/step\n",
      "Epoch 22/50\n",
      "3/3 - 0s - loss: 0.1112 - val_loss: 0.1005 - 33ms/epoch - 11ms/step\n",
      "Epoch 23/50\n",
      "3/3 - 0s - loss: 0.1047 - val_loss: 0.1118 - 38ms/epoch - 13ms/step\n",
      "Epoch 24/50\n",
      "3/3 - 0s - loss: 0.0992 - val_loss: 0.1241 - 35ms/epoch - 12ms/step\n",
      "Epoch 25/50\n",
      "3/3 - 0s - loss: 0.0936 - val_loss: 0.1368 - 31ms/epoch - 10ms/step\n",
      "Epoch 26/50\n",
      "3/3 - 0s - loss: 0.0889 - val_loss: 0.1501 - 48ms/epoch - 16ms/step\n",
      "Epoch 27/50\n",
      "3/3 - 0s - loss: 0.0850 - val_loss: 0.1639 - 24ms/epoch - 8ms/step\n",
      "Epoch 28/50\n",
      "3/3 - 0s - loss: 0.0813 - val_loss: 0.1779 - 32ms/epoch - 11ms/step\n",
      "Epoch 29/50\n",
      "3/3 - 0s - loss: 0.0782 - val_loss: 0.1921 - 31ms/epoch - 10ms/step\n",
      "Epoch 30/50\n",
      "3/3 - 0s - loss: 0.0753 - val_loss: 0.2057 - 32ms/epoch - 11ms/step\n",
      "Epoch 31/50\n",
      "3/3 - 0s - loss: 0.0734 - val_loss: 0.2194 - 46ms/epoch - 15ms/step\n",
      "Epoch 32/50\n",
      "3/3 - 0s - loss: 0.0713 - val_loss: 0.2318 - 35ms/epoch - 12ms/step\n",
      "Epoch 33/50\n",
      "3/3 - 0s - loss: 0.0699 - val_loss: 0.2433 - 31ms/epoch - 10ms/step\n",
      "Epoch 34/50\n",
      "3/3 - 0s - loss: 0.0689 - val_loss: 0.2541 - 31ms/epoch - 10ms/step\n",
      "Epoch 35/50\n",
      "3/3 - 0s - loss: 0.0679 - val_loss: 0.2628 - 42ms/epoch - 14ms/step\n",
      "Epoch 36/50\n",
      "3/3 - 0s - loss: 0.0673 - val_loss: 0.2704 - 50ms/epoch - 17ms/step\n",
      "Epoch 37/50\n",
      "3/3 - 0s - loss: 0.0668 - val_loss: 0.2767 - 66ms/epoch - 22ms/step\n",
      "Epoch 38/50\n",
      "3/3 - 0s - loss: 0.0664 - val_loss: 0.2819 - 48ms/epoch - 16ms/step\n",
      "Epoch 39/50\n",
      "3/3 - 0s - loss: 0.0661 - val_loss: 0.2860 - 32ms/epoch - 11ms/step\n",
      "Epoch 40/50\n",
      "3/3 - 0s - loss: 0.0657 - val_loss: 0.2876 - 34ms/epoch - 11ms/step\n",
      "Epoch 41/50\n",
      "3/3 - 0s - loss: 0.0654 - val_loss: 0.2885 - 37ms/epoch - 12ms/step\n",
      "Epoch 42/50\n",
      "3/3 - 0s - loss: 0.0653 - val_loss: 0.2896 - 38ms/epoch - 13ms/step\n",
      "Epoch 43/50\n",
      "3/3 - 0s - loss: 0.0649 - val_loss: 0.2880 - 39ms/epoch - 13ms/step\n",
      "Epoch 44/50\n",
      "3/3 - 0s - loss: 0.0647 - val_loss: 0.2874 - 34ms/epoch - 11ms/step\n",
      "Epoch 45/50\n",
      "3/3 - 0s - loss: 0.0644 - val_loss: 0.2857 - 45ms/epoch - 15ms/step\n",
      "Epoch 46/50\n",
      "3/3 - 0s - loss: 0.0641 - val_loss: 0.2837 - 46ms/epoch - 15ms/step\n",
      "Epoch 47/50\n",
      "3/3 - 0s - loss: 0.0638 - val_loss: 0.2805 - 32ms/epoch - 11ms/step\n",
      "Epoch 48/50\n",
      "3/3 - 0s - loss: 0.0636 - val_loss: 0.2769 - 43ms/epoch - 14ms/step\n",
      "Epoch 49/50\n",
      "3/3 - 0s - loss: 0.0633 - val_loss: 0.2737 - 51ms/epoch - 17ms/step\n",
      "Epoch 50/50\n",
      "3/3 - 0s - loss: 0.0630 - val_loss: 0.2710 - 43ms/epoch - 14ms/step\n"
     ]
    },
    {
     "data": {
      "text/plain": [
       "<keras.src.callbacks.History at 0x1f1a3f31790>"
      ]
     },
     "execution_count": 35,
     "metadata": {},
     "output_type": "execute_result"
    }
   ],
   "source": [
    "# Build and Train the LSTM Model\n",
    "model = Sequential()\n",
    "model.add(LSTM(50, input_shape=(X_train.shape[1], X_train.shape[2])))\n",
    "model.add(Dense(1))\n",
    "model.compile(optimizer='adam', loss='mse')\n",
    "\n",
    "# Train the model\n",
    "model.fit(X_train, y_train, epochs=50, batch_size=32, validation_data=(X_test, y_test), verbose=2)"
   ]
  },
  {
   "cell_type": "code",
   "execution_count": 36,
   "id": "af61c511",
   "metadata": {},
   "outputs": [
    {
     "name": "stdout",
     "output_type": "stream",
     "text": [
      "1/1 [==============================] - 0s 376ms/step\n",
      "Mean Squared Error (MSE): 10328990.925176408\n",
      "Mean Absolute Error (MAE): 3077.4314386699466\n",
      "Mean Absolute Percentage Error (MAPE): 29.65%\n"
     ]
    }
   ],
   "source": [
    "# Evaluate the Model\n",
    "# Make predictions on the test set\n",
    "y_pred = model.predict(X_test)\n",
    "\n",
    "# Inverse transform the scaled predictions and actual values\n",
    "y_pred_inv = scaler.inverse_transform(np.column_stack((np.zeros_like(y_pred), y_pred)))[:, 1]\n",
    "y_test_inv = scaler.inverse_transform(np.column_stack((np.zeros_like(y_test), y_test)))[:, 1]\n",
    "\n",
    "# Calculate evaluation metrics\n",
    "mse = mean_squared_error(y_test_inv, y_pred_inv)\n",
    "mae = mean_absolute_error(y_test_inv, y_pred_inv)\n",
    "mape = np.mean(np.abs((y_test_inv - y_pred_inv) / y_test_inv)) * 100\n",
    "\n",
    "print(f'Mean Squared Error (MSE): {mse}')\n",
    "print(f'Mean Absolute Error (MAE): {mae}')\n",
    "print(f'Mean Absolute Percentage Error (MAPE): {mape:.2f}%')"
   ]
  },
  {
   "cell_type": "code",
   "execution_count": 37,
   "id": "cd18de6f",
   "metadata": {},
   "outputs": [
    {
     "name": "stdout",
     "output_type": "stream",
     "text": [
      "1/1 [==============================] - 0s 35ms/step\n"
     ]
    }
   ],
   "source": [
    "# Forecasting\n",
    "# Forecast for the next 12 periods\n",
    "future_periods = 12\n",
    "X_future = np.linspace(X[-1], X[-1] + future_periods, future_periods).reshape(-1, 1, 1)\n",
    "y_future_pred = model.predict(X_future)\n",
    "\n",
    "# Inverse transform the scaled predictions\n",
    "y_future_pred_inv = scaler.inverse_transform(np.column_stack((np.zeros_like(y_future_pred), y_future_pred)))[:, 1]\n",
    "\n",
    "# Create a date range for the future periods\n",
    "future_dates = pd.date_range(start=data.index[-1], periods=future_periods + 1, freq='M')[1:]"
   ]
  },
  {
   "cell_type": "code",
   "execution_count": null,
   "id": "58186c04",
   "metadata": {},
   "outputs": [],
   "source": []
  },
  {
   "cell_type": "markdown",
   "id": "777a4454",
   "metadata": {},
   "source": [
    "TEST SIZE 70:30"
   ]
  },
  {
   "cell_type": "code",
   "execution_count": 38,
   "id": "b2c07840",
   "metadata": {},
   "outputs": [],
   "source": [
    "# Split the data into training and testing sets\n",
    "X_train, X_test, y_train, y_test = train_test_split(X, y, test_size=0.3, shuffle=False)"
   ]
  },
  {
   "cell_type": "code",
   "execution_count": 39,
   "id": "e66aa230",
   "metadata": {},
   "outputs": [],
   "source": [
    "# Reshape data for LSTM input\n",
    "X_train = X_train.reshape((X_train.shape[0], 1, 1))\n",
    "X_test = X_test.reshape((X_test.shape[0], 1, 1))"
   ]
  },
  {
   "cell_type": "code",
   "execution_count": 40,
   "id": "b6a4c4bd",
   "metadata": {},
   "outputs": [
    {
     "name": "stdout",
     "output_type": "stream",
     "text": [
      "Epoch 1/50\n",
      "3/3 - 3s - loss: 0.3779 - val_loss: 0.0314 - 3s/epoch - 861ms/step\n",
      "Epoch 2/50\n",
      "3/3 - 0s - loss: 0.3627 - val_loss: 0.0279 - 36ms/epoch - 12ms/step\n",
      "Epoch 3/50\n",
      "3/3 - 0s - loss: 0.3479 - val_loss: 0.0251 - 42ms/epoch - 14ms/step\n",
      "Epoch 4/50\n",
      "3/3 - 0s - loss: 0.3331 - val_loss: 0.0229 - 33ms/epoch - 11ms/step\n",
      "Epoch 5/50\n",
      "3/3 - 0s - loss: 0.3190 - val_loss: 0.0213 - 51ms/epoch - 17ms/step\n",
      "Epoch 6/50\n",
      "3/3 - 0s - loss: 0.3048 - val_loss: 0.0203 - 44ms/epoch - 15ms/step\n",
      "Epoch 7/50\n",
      "3/3 - 0s - loss: 0.2910 - val_loss: 0.0198 - 45ms/epoch - 15ms/step\n",
      "Epoch 8/50\n",
      "3/3 - 0s - loss: 0.2774 - val_loss: 0.0200 - 37ms/epoch - 12ms/step\n",
      "Epoch 9/50\n",
      "3/3 - 0s - loss: 0.2640 - val_loss: 0.0209 - 67ms/epoch - 22ms/step\n",
      "Epoch 10/50\n",
      "3/3 - 0s - loss: 0.2509 - val_loss: 0.0224 - 32ms/epoch - 11ms/step\n",
      "Epoch 11/50\n",
      "3/3 - 0s - loss: 0.2379 - val_loss: 0.0246 - 33ms/epoch - 11ms/step\n",
      "Epoch 12/50\n",
      "3/3 - 0s - loss: 0.2248 - val_loss: 0.0275 - 50ms/epoch - 17ms/step\n",
      "Epoch 13/50\n",
      "3/3 - 0s - loss: 0.2121 - val_loss: 0.0312 - 33ms/epoch - 11ms/step\n",
      "Epoch 14/50\n",
      "3/3 - 0s - loss: 0.1996 - val_loss: 0.0357 - 42ms/epoch - 14ms/step\n",
      "Epoch 15/50\n",
      "3/3 - 0s - loss: 0.1874 - val_loss: 0.0412 - 24ms/epoch - 8ms/step\n",
      "Epoch 16/50\n",
      "3/3 - 0s - loss: 0.1752 - val_loss: 0.0475 - 47ms/epoch - 16ms/step\n",
      "Epoch 17/50\n",
      "3/3 - 0s - loss: 0.1633 - val_loss: 0.0547 - 35ms/epoch - 12ms/step\n",
      "Epoch 18/50\n",
      "3/3 - 0s - loss: 0.1513 - val_loss: 0.0628 - 35ms/epoch - 12ms/step\n",
      "Epoch 19/50\n",
      "3/3 - 0s - loss: 0.1401 - val_loss: 0.0721 - 47ms/epoch - 16ms/step\n",
      "Epoch 20/50\n",
      "3/3 - 0s - loss: 0.1287 - val_loss: 0.0824 - 63ms/epoch - 21ms/step\n",
      "Epoch 21/50\n",
      "3/3 - 0s - loss: 0.1182 - val_loss: 0.0941 - 42ms/epoch - 14ms/step\n",
      "Epoch 22/50\n",
      "3/3 - 0s - loss: 0.1076 - val_loss: 0.1070 - 32ms/epoch - 11ms/step\n",
      "Epoch 23/50\n",
      "3/3 - 0s - loss: 0.0976 - val_loss: 0.1211 - 43ms/epoch - 14ms/step\n",
      "Epoch 24/50\n",
      "3/3 - 0s - loss: 0.0881 - val_loss: 0.1363 - 35ms/epoch - 12ms/step\n",
      "Epoch 25/50\n",
      "3/3 - 0s - loss: 0.0788 - val_loss: 0.1524 - 38ms/epoch - 13ms/step\n",
      "Epoch 26/50\n",
      "3/3 - 0s - loss: 0.0704 - val_loss: 0.1697 - 39ms/epoch - 13ms/step\n",
      "Epoch 27/50\n",
      "3/3 - 0s - loss: 0.0626 - val_loss: 0.1880 - 42ms/epoch - 14ms/step\n",
      "Epoch 28/50\n",
      "3/3 - 0s - loss: 0.0552 - val_loss: 0.2072 - 32ms/epoch - 11ms/step\n",
      "Epoch 29/50\n",
      "3/3 - 0s - loss: 0.0488 - val_loss: 0.2274 - 33ms/epoch - 11ms/step\n",
      "Epoch 30/50\n",
      "3/3 - 0s - loss: 0.0425 - val_loss: 0.2479 - 29ms/epoch - 10ms/step\n",
      "Epoch 31/50\n",
      "3/3 - 0s - loss: 0.0374 - val_loss: 0.2692 - 47ms/epoch - 16ms/step\n",
      "Epoch 32/50\n",
      "3/3 - 0s - loss: 0.0325 - val_loss: 0.2910 - 33ms/epoch - 11ms/step\n",
      "Epoch 33/50\n",
      "3/3 - 0s - loss: 0.0289 - val_loss: 0.3131 - 39ms/epoch - 13ms/step\n",
      "Epoch 34/50\n",
      "3/3 - 0s - loss: 0.0253 - val_loss: 0.3340 - 35ms/epoch - 12ms/step\n",
      "Epoch 35/50\n",
      "3/3 - 0s - loss: 0.0223 - val_loss: 0.3539 - 44ms/epoch - 15ms/step\n",
      "Epoch 36/50\n",
      "3/3 - 0s - loss: 0.0200 - val_loss: 0.3731 - 42ms/epoch - 14ms/step\n",
      "Epoch 37/50\n",
      "3/3 - 0s - loss: 0.0183 - val_loss: 0.3914 - 43ms/epoch - 14ms/step\n",
      "Epoch 38/50\n",
      "3/3 - 0s - loss: 0.0167 - val_loss: 0.4084 - 47ms/epoch - 16ms/step\n",
      "Epoch 39/50\n",
      "3/3 - 0s - loss: 0.0156 - val_loss: 0.4248 - 31ms/epoch - 10ms/step\n",
      "Epoch 40/50\n",
      "3/3 - 0s - loss: 0.0149 - val_loss: 0.4404 - 54ms/epoch - 18ms/step\n",
      "Epoch 41/50\n",
      "3/3 - 0s - loss: 0.0141 - val_loss: 0.4534 - 33ms/epoch - 11ms/step\n",
      "Epoch 42/50\n",
      "3/3 - 0s - loss: 0.0137 - val_loss: 0.4653 - 50ms/epoch - 17ms/step\n",
      "Epoch 43/50\n",
      "3/3 - 0s - loss: 0.0136 - val_loss: 0.4761 - 39ms/epoch - 13ms/step\n",
      "Epoch 44/50\n",
      "3/3 - 0s - loss: 0.0133 - val_loss: 0.4843 - 40ms/epoch - 13ms/step\n",
      "Epoch 45/50\n",
      "3/3 - 0s - loss: 0.0132 - val_loss: 0.4917 - 32ms/epoch - 11ms/step\n",
      "Epoch 46/50\n",
      "3/3 - 0s - loss: 0.0131 - val_loss: 0.4977 - 41ms/epoch - 14ms/step\n",
      "Epoch 47/50\n",
      "3/3 - 0s - loss: 0.0131 - val_loss: 0.5026 - 92ms/epoch - 31ms/step\n",
      "Epoch 48/50\n",
      "3/3 - 0s - loss: 0.0131 - val_loss: 0.5066 - 45ms/epoch - 15ms/step\n",
      "Epoch 49/50\n",
      "3/3 - 0s - loss: 0.0131 - val_loss: 0.5107 - 43ms/epoch - 14ms/step\n",
      "Epoch 50/50\n",
      "3/3 - 0s - loss: 0.0132 - val_loss: 0.5136 - 36ms/epoch - 12ms/step\n"
     ]
    },
    {
     "data": {
      "text/plain": [
       "<keras.src.callbacks.History at 0x1f1a64aeb20>"
      ]
     },
     "execution_count": 40,
     "metadata": {},
     "output_type": "execute_result"
    }
   ],
   "source": [
    "# Build and Train the LSTM Model\n",
    "model = Sequential()\n",
    "model.add(LSTM(50, input_shape=(X_train.shape[1], X_train.shape[2])))\n",
    "model.add(Dense(1))\n",
    "model.compile(optimizer='adam', loss='mse')\n",
    "\n",
    "# Train the model\n",
    "model.fit(X_train, y_train, epochs=50, batch_size=32, validation_data=(X_test, y_test), verbose=2)"
   ]
  },
  {
   "cell_type": "code",
   "execution_count": 41,
   "id": "9c6be6de",
   "metadata": {},
   "outputs": [
    {
     "name": "stdout",
     "output_type": "stream",
     "text": [
      "WARNING:tensorflow:5 out of the last 16 calls to <function Model.make_predict_function.<locals>.predict_function at 0x000001F1A2D41DC0> triggered tf.function retracing. Tracing is expensive and the excessive number of tracings could be due to (1) creating @tf.function repeatedly in a loop, (2) passing tensors with different shapes, (3) passing Python objects instead of tensors. For (1), please define your @tf.function outside of the loop. For (2), @tf.function has reduce_retracing=True option that can avoid unnecessary retracing. For (3), please refer to https://www.tensorflow.org/guide/function#controlling_retracing and https://www.tensorflow.org/api_docs/python/tf/function for  more details.\n",
      "2/2 [==============================] - 0s 0s/step\n",
      "Mean Squared Error (MSE): 19579159.030574597\n",
      "Mean Absolute Error (MAE): 4363.830638372043\n",
      "Mean Absolute Percentage Error (MAPE): 42.28%\n"
     ]
    }
   ],
   "source": [
    "# Evaluate the Model\n",
    "# Make predictions on the test set\n",
    "y_pred = model.predict(X_test)\n",
    "\n",
    "# Inverse transform the scaled predictions and actual values\n",
    "y_pred_inv = scaler.inverse_transform(np.column_stack((np.zeros_like(y_pred), y_pred)))[:, 1]\n",
    "y_test_inv = scaler.inverse_transform(np.column_stack((np.zeros_like(y_test), y_test)))[:, 1]\n",
    "\n",
    "# Calculate evaluation metrics\n",
    "mse = mean_squared_error(y_test_inv, y_pred_inv)\n",
    "mae = mean_absolute_error(y_test_inv, y_pred_inv)\n",
    "mape = np.mean(np.abs((y_test_inv - y_pred_inv) / y_test_inv)) * 100\n",
    "\n",
    "print(f'Mean Squared Error (MSE): {mse}')\n",
    "print(f'Mean Absolute Error (MAE): {mae}')\n",
    "print(f'Mean Absolute Percentage Error (MAPE): {mape:.2f}%')"
   ]
  },
  {
   "cell_type": "code",
   "execution_count": 42,
   "id": "ab875c79",
   "metadata": {},
   "outputs": [
    {
     "name": "stdout",
     "output_type": "stream",
     "text": [
      "1/1 [==============================] - 0s 30ms/step\n"
     ]
    }
   ],
   "source": [
    "# Forecasting\n",
    "# Forecast for the next 12 periods\n",
    "future_periods = 12\n",
    "X_future = np.linspace(X[-1], X[-1] + future_periods, future_periods).reshape(-1, 1, 1)\n",
    "y_future_pred = model.predict(X_future)\n",
    "\n",
    "# Inverse transform the scaled predictions\n",
    "y_future_pred_inv_30 = scaler.inverse_transform(np.column_stack((np.zeros_like(y_future_pred), y_future_pred)))[:, 1]\n",
    "\n",
    "# Create a date range for the future periods\n",
    "future_dates_30 = pd.date_range(start=data.index[-1], periods=future_periods + 1, freq='M')[1:]"
   ]
  },
  {
   "cell_type": "markdown",
   "id": "de336f49",
   "metadata": {},
   "source": [
    "TEST SIZE 60:40"
   ]
  },
  {
   "cell_type": "code",
   "execution_count": 43,
   "id": "f2ea63fb",
   "metadata": {},
   "outputs": [],
   "source": [
    "# Split the data into training and testing sets\n",
    "X_train, X_test, y_train, y_test = train_test_split(X, y, test_size=0.4, shuffle=False)"
   ]
  },
  {
   "cell_type": "code",
   "execution_count": 44,
   "id": "bfc26809",
   "metadata": {},
   "outputs": [],
   "source": [
    "# Reshape data for LSTM input\n",
    "X_train = X_train.reshape((X_train.shape[0], 1, 1))\n",
    "X_test = X_test.reshape((X_test.shape[0], 1, 1))"
   ]
  },
  {
   "cell_type": "code",
   "execution_count": 45,
   "id": "63d14dff",
   "metadata": {},
   "outputs": [
    {
     "name": "stdout",
     "output_type": "stream",
     "text": [
      "Epoch 1/50\n",
      "2/2 - 1s - loss: 0.3350 - val_loss: 0.1375 - 1s/epoch - 747ms/step\n",
      "Epoch 2/50\n",
      "2/2 - 0s - loss: 0.3253 - val_loss: 0.1328 - 30ms/epoch - 15ms/step\n",
      "Epoch 3/50\n",
      "2/2 - 0s - loss: 0.3157 - val_loss: 0.1284 - 33ms/epoch - 16ms/step\n",
      "Epoch 4/50\n",
      "2/2 - 0s - loss: 0.3064 - val_loss: 0.1242 - 37ms/epoch - 19ms/step\n",
      "Epoch 5/50\n",
      "2/2 - 0s - loss: 0.2971 - val_loss: 0.1203 - 32ms/epoch - 16ms/step\n",
      "Epoch 6/50\n",
      "2/2 - 0s - loss: 0.2877 - val_loss: 0.1166 - 31ms/epoch - 15ms/step\n",
      "Epoch 7/50\n",
      "2/2 - 0s - loss: 0.2788 - val_loss: 0.1133 - 32ms/epoch - 16ms/step\n",
      "Epoch 8/50\n",
      "2/2 - 0s - loss: 0.2698 - val_loss: 0.1102 - 47ms/epoch - 24ms/step\n",
      "Epoch 9/50\n",
      "2/2 - 0s - loss: 0.2609 - val_loss: 0.1074 - 31ms/epoch - 16ms/step\n",
      "Epoch 10/50\n",
      "2/2 - 0s - loss: 0.2520 - val_loss: 0.1048 - 32ms/epoch - 16ms/step\n",
      "Epoch 11/50\n",
      "2/2 - 0s - loss: 0.2434 - val_loss: 0.1026 - 47ms/epoch - 23ms/step\n",
      "Epoch 12/50\n",
      "2/2 - 0s - loss: 0.2349 - val_loss: 0.1006 - 32ms/epoch - 16ms/step\n",
      "Epoch 13/50\n",
      "2/2 - 0s - loss: 0.2263 - val_loss: 0.0989 - 33ms/epoch - 17ms/step\n",
      "Epoch 14/50\n",
      "2/2 - 0s - loss: 0.2179 - val_loss: 0.0975 - 37ms/epoch - 18ms/step\n",
      "Epoch 15/50\n",
      "2/2 - 0s - loss: 0.2094 - val_loss: 0.0965 - 32ms/epoch - 16ms/step\n",
      "Epoch 16/50\n",
      "2/2 - 0s - loss: 0.2013 - val_loss: 0.0957 - 31ms/epoch - 16ms/step\n",
      "Epoch 17/50\n",
      "2/2 - 0s - loss: 0.1930 - val_loss: 0.0953 - 47ms/epoch - 23ms/step\n",
      "Epoch 18/50\n",
      "2/2 - 0s - loss: 0.1850 - val_loss: 0.0952 - 32ms/epoch - 16ms/step\n",
      "Epoch 19/50\n",
      "2/2 - 0s - loss: 0.1768 - val_loss: 0.0955 - 47ms/epoch - 24ms/step\n",
      "Epoch 20/50\n",
      "2/2 - 0s - loss: 0.1688 - val_loss: 0.0962 - 31ms/epoch - 16ms/step\n",
      "Epoch 21/50\n",
      "2/2 - 0s - loss: 0.1609 - val_loss: 0.0972 - 22ms/epoch - 11ms/step\n",
      "Epoch 22/50\n",
      "2/2 - 0s - loss: 0.1531 - val_loss: 0.0986 - 31ms/epoch - 15ms/step\n",
      "Epoch 23/50\n",
      "2/2 - 0s - loss: 0.1453 - val_loss: 0.1005 - 39ms/epoch - 19ms/step\n",
      "Epoch 24/50\n",
      "2/2 - 0s - loss: 0.1379 - val_loss: 0.1028 - 47ms/epoch - 24ms/step\n",
      "Epoch 25/50\n",
      "2/2 - 0s - loss: 0.1304 - val_loss: 0.1055 - 37ms/epoch - 18ms/step\n",
      "Epoch 26/50\n",
      "2/2 - 0s - loss: 0.1232 - val_loss: 0.1087 - 27ms/epoch - 13ms/step\n",
      "Epoch 27/50\n",
      "2/2 - 0s - loss: 0.1160 - val_loss: 0.1124 - 47ms/epoch - 24ms/step\n",
      "Epoch 28/50\n",
      "2/2 - 0s - loss: 0.1089 - val_loss: 0.1165 - 32ms/epoch - 16ms/step\n",
      "Epoch 29/50\n",
      "2/2 - 0s - loss: 0.1022 - val_loss: 0.1212 - 49ms/epoch - 24ms/step\n",
      "Epoch 30/50\n",
      "2/2 - 0s - loss: 0.0955 - val_loss: 0.1264 - 37ms/epoch - 18ms/step\n",
      "Epoch 31/50\n",
      "2/2 - 0s - loss: 0.0891 - val_loss: 0.1320 - 66ms/epoch - 33ms/step\n",
      "Epoch 32/50\n",
      "2/2 - 0s - loss: 0.0828 - val_loss: 0.1382 - 37ms/epoch - 19ms/step\n",
      "Epoch 33/50\n",
      "2/2 - 0s - loss: 0.0768 - val_loss: 0.1449 - 31ms/epoch - 15ms/step\n",
      "Epoch 34/50\n",
      "2/2 - 0s - loss: 0.0709 - val_loss: 0.1521 - 42ms/epoch - 21ms/step\n",
      "Epoch 35/50\n",
      "2/2 - 0s - loss: 0.0655 - val_loss: 0.1598 - 34ms/epoch - 17ms/step\n",
      "Epoch 36/50\n",
      "2/2 - 0s - loss: 0.0602 - val_loss: 0.1680 - 31ms/epoch - 16ms/step\n",
      "Epoch 37/50\n",
      "2/2 - 0s - loss: 0.0551 - val_loss: 0.1767 - 27ms/epoch - 13ms/step\n",
      "Epoch 38/50\n",
      "2/2 - 0s - loss: 0.0505 - val_loss: 0.1858 - 33ms/epoch - 16ms/step\n",
      "Epoch 39/50\n",
      "2/2 - 0s - loss: 0.0459 - val_loss: 0.1953 - 37ms/epoch - 18ms/step\n",
      "Epoch 40/50\n",
      "2/2 - 0s - loss: 0.0417 - val_loss: 0.2053 - 32ms/epoch - 16ms/step\n",
      "Epoch 41/50\n",
      "2/2 - 0s - loss: 0.0378 - val_loss: 0.2155 - 47ms/epoch - 23ms/step\n",
      "Epoch 42/50\n",
      "2/2 - 0s - loss: 0.0343 - val_loss: 0.2262 - 31ms/epoch - 16ms/step\n",
      "Epoch 43/50\n",
      "2/2 - 0s - loss: 0.0309 - val_loss: 0.2371 - 43ms/epoch - 21ms/step\n",
      "Epoch 44/50\n",
      "2/2 - 0s - loss: 0.0279 - val_loss: 0.2482 - 36ms/epoch - 18ms/step\n",
      "Epoch 45/50\n",
      "2/2 - 0s - loss: 0.0250 - val_loss: 0.2594 - 40ms/epoch - 20ms/step\n",
      "Epoch 46/50\n",
      "2/2 - 0s - loss: 0.0225 - val_loss: 0.2708 - 40ms/epoch - 20ms/step\n",
      "Epoch 47/50\n",
      "2/2 - 0s - loss: 0.0201 - val_loss: 0.2821 - 40ms/epoch - 20ms/step\n",
      "Epoch 48/50\n",
      "2/2 - 0s - loss: 0.0183 - val_loss: 0.2935 - 40ms/epoch - 20ms/step\n",
      "Epoch 49/50\n",
      "2/2 - 0s - loss: 0.0165 - val_loss: 0.3048 - 48ms/epoch - 24ms/step\n",
      "Epoch 50/50\n",
      "2/2 - 0s - loss: 0.0149 - val_loss: 0.3159 - 40ms/epoch - 20ms/step\n"
     ]
    },
    {
     "data": {
      "text/plain": [
       "<keras.src.callbacks.History at 0x1f1a52985e0>"
      ]
     },
     "execution_count": 45,
     "metadata": {},
     "output_type": "execute_result"
    }
   ],
   "source": [
    "# Build and Train the LSTM Model\n",
    "model = Sequential()\n",
    "model.add(LSTM(50, input_shape=(X_train.shape[1], X_train.shape[2])))\n",
    "model.add(Dense(1))\n",
    "model.compile(optimizer='adam', loss='mse')\n",
    "\n",
    "# Train the model\n",
    "model.fit(X_train, y_train, epochs=50, batch_size=32, validation_data=(X_test, y_test), verbose=2)"
   ]
  },
  {
   "cell_type": "code",
   "execution_count": 46,
   "id": "f9ee653e",
   "metadata": {},
   "outputs": [
    {
     "name": "stdout",
     "output_type": "stream",
     "text": [
      "WARNING:tensorflow:5 out of the last 11 calls to <function Model.make_predict_function.<locals>.predict_function at 0x000001F1A9922C10> triggered tf.function retracing. Tracing is expensive and the excessive number of tracings could be due to (1) creating @tf.function repeatedly in a loop, (2) passing tensors with different shapes, (3) passing Python objects instead of tensors. For (1), please define your @tf.function outside of the loop. For (2), @tf.function has reduce_retracing=True option that can avoid unnecessary retracing. For (3), please refer to https://www.tensorflow.org/guide/function#controlling_retracing and https://www.tensorflow.org/api_docs/python/tf/function for  more details.\n",
      "2/2 [==============================] - 0s 0s/step\n",
      "Mean Squared Error (MSE): 12040291.38918409\n",
      "Mean Absolute Error (MAE): 3171.4311745002615\n",
      "Mean Absolute Percentage Error (MAPE): 30.16%\n"
     ]
    }
   ],
   "source": [
    "# Evaluate the Model\n",
    "# Make predictions on the test set\n",
    "y_pred = model.predict(X_test)\n",
    "\n",
    "# Inverse transform the scaled predictions and actual values\n",
    "y_pred_inv = scaler.inverse_transform(np.column_stack((np.zeros_like(y_pred), y_pred)))[:, 1]\n",
    "y_test_inv = scaler.inverse_transform(np.column_stack((np.zeros_like(y_test), y_test)))[:, 1]\n",
    "\n",
    "# Calculate evaluation metrics\n",
    "mse = mean_squared_error(y_test_inv, y_pred_inv)\n",
    "mae = mean_absolute_error(y_test_inv, y_pred_inv)\n",
    "mape = np.mean(np.abs((y_test_inv - y_pred_inv) / y_test_inv)) * 100\n",
    "\n",
    "print(f'Mean Squared Error (MSE): {mse}')\n",
    "print(f'Mean Absolute Error (MAE): {mae}')\n",
    "print(f'Mean Absolute Percentage Error (MAPE): {mape:.2f}%')"
   ]
  },
  {
   "cell_type": "code",
   "execution_count": 47,
   "id": "8cc4b0a3",
   "metadata": {},
   "outputs": [
    {
     "name": "stdout",
     "output_type": "stream",
     "text": [
      "1/1 [==============================] - 0s 24ms/step\n"
     ]
    }
   ],
   "source": [
    "# Forecasting\n",
    "# Forecast for the next 12 periods\n",
    "future_periods = 12\n",
    "X_future = np.linspace(X[-1], X[-1] + future_periods, future_periods).reshape(-1, 1, 1)\n",
    "y_future_pred = model.predict(X_future)\n",
    "\n",
    "# Inverse transform the scaled predictions\n",
    "y_future_pred_inv_40 = scaler.inverse_transform(np.column_stack((np.zeros_like(y_future_pred), y_future_pred)))[:, 1]\n",
    "\n",
    "# Create a date range for the future periods\n",
    "future_dates_40 = pd.date_range(start=data.index[-1], periods=future_periods + 1, freq='M')[1:]"
   ]
  },
  {
   "cell_type": "markdown",
   "id": "1c6d508a",
   "metadata": {},
   "source": [
    "VISUALIZATION"
   ]
  },
  {
   "cell_type": "code",
   "execution_count": 48,
   "id": "3e1a1244",
   "metadata": {},
   "outputs": [
    {
     "data": {
      "image/png": "[encoded data removed]",
      "text/plain": [
       "<Figure size 640x480 with 1 Axes>"
      ]
     },
     "metadata": {},
     "output_type": "display_data"
    }
   ],
   "source": [
    "# Plot the results\n",
    "plt.plot(data.index, data['total_visitor'], label='Actual')\n",
    "plt.plot(future_dates, y_future_pred_inv, label='Forecast 80:20')\n",
    "plt.plot(future_dates_30, y_future_pred_inv_30, label='Forecast 70:30', color='red')\n",
    "plt.plot(future_dates_40, y_future_pred_inv_40, label='Forecast 60:40', color='green')\n",
    "plt.legend()\n",
    "plt.show()"
   ]
  }
 ],
 "metadata": {
  "kernelspec": {
   "display_name": "Python 3",
   "language": "python",
   "name": "python3"
  },
  "language_info": {
   "codemirror_mode": {
    "name": "ipython",
    "version": 3
   },
   "file_extension": ".py",
   "mimetype": "text/x-python",
   "name": "python",
   "nbconvert_exporter": "python",
   "pygments_lexer": "ipython3",
   "version": "3.9.12"
  }
 },
 "nbformat": 4,
 "nbformat_minor": 5
}
